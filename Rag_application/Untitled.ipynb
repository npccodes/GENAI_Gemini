{
 "cells": [
  {
   "cell_type": "code",
   "execution_count": 27,
   "id": "737e5559-677a-4b4b-85c6-5dbf832c66e0",
   "metadata": {},
   "outputs": [],
   "source": [
    "from typing import List\n",
    "\n",
    "from langchain.prompts import PromptTemplate\n",
    "from langchain_core.output_parsers import JsonOutputParser, CommaSeparatedListOutputParser\n",
    "from langchain_core.pydantic_v1 import BaseModel, Field\n",
    "from langchain_google_genai import GoogleGenerativeAI"
   ]
  },
  {
   "cell_type": "code",
   "execution_count": 2,
   "id": "318355bb-706d-4cc9-8698-c18421c92596",
   "metadata": {},
   "outputs": [],
   "source": [
    "from dotenv import load_dotenv\n",
    "load_dotenv()\n",
    "import os\n",
    "Google_api_key = os.environ[\"GEMINI_API_KEY\"]"
   ]
  },
  {
   "cell_type": "code",
   "execution_count": 4,
   "id": "500c50e4-f5fe-47c6-8141-58f30c2de04c",
   "metadata": {},
   "outputs": [],
   "source": [
    "llm = GoogleGenerativeAI(model=\"gemini-pro\",temperature=0.2, google_api_key= Google_api_key)"
   ]
  },
  {
   "cell_type": "code",
   "execution_count": 19,
   "id": "27895c8c-acfa-4a5c-ba04-af4f775f814e",
   "metadata": {},
   "outputs": [],
   "source": [
    "class Key_Defintion(BaseModel):\n",
    "    question: str = Field(description=\"A question asked\")\n",
    "    answer: str = Field(description = \"answer of the question asked.\")"
   ]
  },
  {
   "cell_type": "code",
   "execution_count": 21,
   "id": "f1f2d0b6-d1c3-42f9-9ae6-86bf6fd1cbd6",
   "metadata": {
    "scrolled": true
   },
   "outputs": [
    {
     "data": {
      "text/plain": [
       "{'question': 'What is Cauchy Reimann Equation. in the Context of Complex analysis',\n",
       " 'answer': 'The Cauchy–Riemann equations are a system of two partial differential equations that are satisfied by the real and imaginary parts of a complex function that is differentiable at a point. They are named after Augustin-Louis Cauchy and Bernhard Riemann, who independently discovered them in the 19th century.'}"
      ]
     },
     "execution_count": 21,
     "metadata": {},
     "output_type": "execute_result"
    }
   ],
   "source": [
    "# And a query intented to prompt a language model to populate the data structure.\n",
    "keyword = \"Cauchy Reimann Equation.\"\n",
    "\n",
    "# Set up a parser + inject instructions into the prompt template.\n",
    "parser = JsonOutputParser(pydantic_object=Key_Defintion)\n",
    "\n",
    "prompt = PromptTemplate(\n",
    "    template=\"Answer the user query.\\n{format_instructions}\\n{query}\\n\",\n",
    "    input_variables=[\"query\"],\n",
    "    partial_variables={\"format_instructions\": parser.get_format_instructions()},\n",
    ")\n",
    "\n",
    "chain = prompt | llm | parser\n",
    "\n",
    "chain.invoke({\"query\": f\"what is {keyword} in the Context of Complex analysis\"})"
   ]
  },
  {
   "cell_type": "code",
   "execution_count": 14,
   "id": "586a52ad-f255-4dc8-af54-973817b47093",
   "metadata": {},
   "outputs": [],
   "source": [
    "# Define your desired data structure.\n",
    "class Joke(BaseModel):\n",
    "    question: str = Field(description=\"question asked\")\n",
    "    answer: str = Field(description=\"answer of the question asked\")"
   ]
  },
  {
   "cell_type": "code",
   "execution_count": 15,
   "id": "93f0f383-02a2-485d-869d-7b4d584c65c7",
   "metadata": {},
   "outputs": [
    {
     "data": {
      "text/plain": [
       "{'question': 'What is Joke.', 'answer': 'A thing that makes people laugh.'}"
      ]
     },
     "execution_count": 15,
     "metadata": {},
     "output_type": "execute_result"
    }
   ],
   "source": [
    "# And a query intented to prompt a language model to populate the data structure.\n",
    "joke_query = \"What is Joke.\"\n",
    "\n",
    "# Set up a parser + inject instructions into the prompt template.\n",
    "parser = JsonOutputParser(pydantic_object=Joke)\n",
    "\n",
    "prompt = PromptTemplate(\n",
    "    template=\"Answer the user query.\\n{format_instructions}\\n{query}\\n\",\n",
    "    input_variables=[\"query\"],\n",
    "    partial_variables={\"format_instructions\": parser.get_format_instructions()},\n",
    ")\n",
    "\n",
    "chain = prompt | llm | parser\n",
    "\n",
    "chain.invoke({\"query\": joke_query})"
   ]
  },
  {
   "cell_type": "code",
   "execution_count": 36,
   "id": "e4a264ab-74e7-4247-b04b-804c5f0fba49",
   "metadata": {},
   "outputs": [],
   "source": [
    "temp = {'question': 'What is Joke.', 'answer': 'A thing that makes people laugh.'}"
   ]
  },
  {
   "cell_type": "code",
   "execution_count": 13,
   "id": "d0f65cc6-5494-4e3e-a8fb-fd434f0d6bc3",
   "metadata": {},
   "outputs": [
    {
     "name": "stdout",
     "output_type": "stream",
     "text": [
      "Answer the user query.\n",
      "The output should be formatted as a JSON instance that conforms to the JSON schema below.\n",
      "\n",
      "As an example, for the schema {\"properties\": {\"foo\": {\"title\": \"Foo\", \"description\": \"a list of strings\", \"type\": \"array\", \"items\": {\"type\": \"string\"}}}, \"required\": [\"foo\"]}\n",
      "the object {\"foo\": [\"bar\", \"baz\"]} is a well-formatted instance of the schema. The object {\"properties\": {\"foo\": [\"bar\", \"baz\"]}} is not well-formatted.\n",
      "\n",
      "Here is the output schema:\n",
      "```\n",
      "{\"properties\": {\"setup\": {\"title\": \"Setup\", \"description\": \"question to set up a joke\", \"type\": \"string\"}, \"punchline\": {\"title\": \"Punchline\", \"description\": \"answer to resolve the joke\", \"type\": \"string\"}}, \"required\": [\"setup\", \"punchline\"]}\n",
      "```\n",
      "Tell me a joke.\n",
      "\n"
     ]
    }
   ],
   "source": [
    "print(prompt.invoke({\"query\": joke_query}).text)"
   ]
  },
  {
   "cell_type": "code",
   "execution_count": 37,
   "id": "59e177dc-698e-421d-881c-beabe0e4f311",
   "metadata": {},
   "outputs": [
    {
     "data": {
      "text/plain": [
       "'What is Joke.'"
      ]
     },
     "execution_count": 37,
     "metadata": {},
     "output_type": "execute_result"
    }
   ],
   "source": [
    "temp[\"question\"]"
   ]
  },
  {
   "cell_type": "code",
   "execution_count": 30,
   "id": "3a5ba257-f27b-4afb-a49c-ca10afe88470",
   "metadata": {},
   "outputs": [],
   "source": [
    "test_keyword = \"Prove Cauchy Reimann Equation equation\"\n",
    "\n",
    "parser = CommaSeparatedListOutputParser()\n",
    "prompt = PromptTemplate(\n",
    "    template=\"List the Extracted keywords from the statement in the context of Complex Analysis.\\n{format}.\\n statement: {statement}\",\n",
    "    input_variables=[\"statement\"],\n",
    "    partial_variables={\"format\": parser.get_format_instructions()}\n",
    ")\n",
    "\n",
    "chain = prompt | llm | parser"
   ]
  },
  {
   "cell_type": "code",
   "execution_count": 33,
   "id": "6f9fc0d3-c682-40d9-b13d-61369cb75e46",
   "metadata": {},
   "outputs": [],
   "source": [
    "var = chain.invoke({\"statement\": test_keyword})"
   ]
  },
  {
   "cell_type": "code",
   "execution_count": null,
   "id": "0322519c-dfd9-4266-a203-4a2dfb3aa527",
   "metadata": {},
   "outputs": [],
   "source": []
  }
 ],
 "metadata": {
  "kernelspec": {
   "display_name": "Python 3 (ipykernel)",
   "language": "python",
   "name": "python3"
  },
  "language_info": {
   "codemirror_mode": {
    "name": "ipython",
    "version": 3
   },
   "file_extension": ".py",
   "mimetype": "text/x-python",
   "name": "python",
   "nbconvert_exporter": "python",
   "pygments_lexer": "ipython3",
   "version": "3.12.1"
  }
 },
 "nbformat": 4,
 "nbformat_minor": 5
}
