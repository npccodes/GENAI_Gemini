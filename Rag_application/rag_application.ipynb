{
 "cells": [
  {
   "cell_type": "code",
   "execution_count": 1,
   "id": "8db57227-1d12-4550-a872-40b9e88509ac",
   "metadata": {},
   "outputs": [
    {
     "data": {
      "text/plain": [
       "True"
      ]
     },
     "execution_count": 1,
     "metadata": {},
     "output_type": "execute_result"
    }
   ],
   "source": [
    "import os\n",
    "from dotenv import load_dotenv\n",
    "load_dotenv()"
   ]
  },
  {
   "cell_type": "code",
   "execution_count": 2,
   "id": "e63b9766-63d1-4aee-8a36-320c4e4e7d7d",
   "metadata": {},
   "outputs": [],
   "source": [
    "Gemini_api_key = os.environ[\"GEMINI_API_KEY\"]"
   ]
  },
  {
   "cell_type": "code",
   "execution_count": 3,
   "id": "9a0c889a-6d78-4244-a524-ba0002e0303d",
   "metadata": {},
   "outputs": [],
   "source": [
    "from langchain_google_genai import GoogleGenerativeAI"
   ]
  },
  {
   "cell_type": "code",
   "execution_count": 4,
   "id": "79d227b4-ed3e-4153-90c1-be1353077637",
   "metadata": {},
   "outputs": [],
   "source": [
    "from langchain_google_genai import ChatGoogleGenerativeAI\n",
    "from langchain_google_genai import GoogleGenerativeAIEmbeddings\n",
    "from langchain.text_splitter import RecursiveCharacterTextSplitter\n",
    "from langchain_community.document_loaders import PyPDFLoader\n",
    "from langchain import hub"
   ]
  },
  {
   "cell_type": "code",
   "execution_count": 5,
   "id": "cb5912db-825b-4607-8586-7c611a55d3f3",
   "metadata": {},
   "outputs": [],
   "source": [
    "from langchain_core.runnables import RunnablePassthrough\n",
    "from langchain_core.output_parsers import StrOutputParser\n",
    "from langchain_community.vectorstores import AstraDB"
   ]
  },
  {
   "cell_type": "code",
   "execution_count": 6,
   "id": "36e0306d-4c5d-4f51-b32f-3d49faf7a8b6",
   "metadata": {},
   "outputs": [],
   "source": [
    "from langchain.prompts import PromptTemplate"
   ]
  },
  {
   "cell_type": "code",
   "execution_count": 7,
   "id": "40fd898a-1734-4ed1-b489-2fd638a946cb",
   "metadata": {},
   "outputs": [],
   "source": [
    "GoogleGeminiEmbeddings = GoogleGenerativeAIEmbeddings(model=\"models/embedding-001\",google_api_key=Gemini_api_key )"
   ]
  },
  {
   "cell_type": "code",
   "execution_count": 8,
   "id": "f900f0dc-578a-4a7c-b39b-440f572f96e3",
   "metadata": {},
   "outputs": [],
   "source": [
    "loader = PyPDFLoader(\"./Brown_Churchill_Complex_Variables_and_Ap.pdf\")\n",
    "pages = loader.load_and_split()"
   ]
  },
  {
   "cell_type": "code",
   "execution_count": 9,
   "id": "58f2552d-5b1a-42a1-8a13-a28fc7fa8c1a",
   "metadata": {},
   "outputs": [],
   "source": [
    "ASTRA_DB_API_ENDPOINT = os.environ[\"ASTRA_DB_API_ENDPOINT\"]\n",
    "ASTRA_DB_APPLICATION_TOKEN = os.environ[\"ASTRA_DB_APPLICATION_TOKEN\"]"
   ]
  },
  {
   "cell_type": "code",
   "execution_count": 10,
   "id": "cdf41008-8c9c-42af-93b6-306449d72bdb",
   "metadata": {},
   "outputs": [],
   "source": [
    "text_splitter = RecursiveCharacterTextSplitter(chunk_size =1200, chunk_overlap = 400)\n",
    "splits = text_splitter.split_documents(pages)"
   ]
  },
  {
   "cell_type": "code",
   "execution_count": 11,
   "id": "c3565257-662d-496a-93da-cb8acd666bbb",
   "metadata": {},
   "outputs": [],
   "source": [
    "vstore = AstraDB(\n",
    "    embedding=GoogleGeminiEmbeddings,\n",
    "    collection_name=\"Complex_variables\",\n",
    "    api_endpoint=ASTRA_DB_API_ENDPOINT,\n",
    "    token=ASTRA_DB_APPLICATION_TOKEN,\n",
    ")"
   ]
  },
  {
   "cell_type": "code",
   "execution_count": 12,
   "id": "ac72f007-d22c-4c39-a7e5-e9ebd08a4611",
   "metadata": {
    "scrolled": true
   },
   "outputs": [],
   "source": [
    "ids = vstore.add_documents(splits)"
   ]
  },
  {
   "cell_type": "code",
   "execution_count": 13,
   "id": "f75ea29d-c655-4a4f-9efc-c2ece2b48f00",
   "metadata": {},
   "outputs": [],
   "source": [
    "retriever = vstore.as_retriever()\n",
    "template = \"\"\"\n",
    "context: {context}\n",
    "\n",
    "question: {question}\n",
    "\"\"\"\n",
    "prompt = PromptTemplate.from_template(template)\n",
    "llm = ChatGoogleGenerativeAI(model=\"gemini-pro\", temperature=0.0, google_api_key=Gemini_api_key, )"
   ]
  },
  {
   "cell_type": "code",
   "execution_count": 14,
   "id": "ed8cfcd9-24d5-451c-9c75-8cf3cb552088",
   "metadata": {},
   "outputs": [],
   "source": [
    "genai_llm = GoogleGenerativeAI(model = \"gemini-pro\", temperature=0.0, google_api_key=Gemini_api_key)"
   ]
  },
  {
   "cell_type": "code",
   "execution_count": 15,
   "id": "63759e94-d51d-457d-99e2-eaeb826b2afc",
   "metadata": {},
   "outputs": [],
   "source": [
    "def pages_adjustments(pages):\n",
    "    return \"\\n\\n\".join(page.page_content for page in pages)"
   ]
  },
  {
   "cell_type": "code",
   "execution_count": 16,
   "id": "d1b68b34-effd-4549-8ac6-2c6343bc25c0",
   "metadata": {},
   "outputs": [],
   "source": [
    "context_chain = retriever | pages_adjustments"
   ]
  },
  {
   "cell_type": "code",
   "execution_count": 17,
   "id": "ede283ba-975f-4374-a4a5-d666eba95db4",
   "metadata": {},
   "outputs": [],
   "source": [
    "main_chain = (\n",
    "    {\"context\" : context_chain, \"question\": RunnablePassthrough()}\n",
    "    |prompt\n",
    "    | genai_llm\n",
    "    | StrOutputParser()\n",
    ")"
   ]
  },
  {
   "cell_type": "code",
   "execution_count": 76,
   "id": "db76dcb9-667e-40b7-96e3-86bb263ac9b0",
   "metadata": {},
   "outputs": [
    {
     "data": {
      "text/plain": [
       "\"The Cauchy-Riemann equations are a system of two partial differential equations that are necessary and sufficient conditions for a complex function to be holomorphic (also known as analytic). They are named after Augustin-Louis Cauchy and Bernhard Riemann, who independently discovered them in the 19th century.\\n\\nThe Cauchy-Riemann equations are:\\n\\n```\\n∂u/∂x = ∂v/∂y\\n∂u/∂y = -∂v/∂x\\n```\\n\\nwhere u and v are the real and imaginary parts of the complex function f(z), respectively.\\n\\nTo prove the Cauchy-Riemann equations, we can use the definition of the derivative of a complex function:\\n\\n```\\nf'(z) = lim(h->0) [f(z+h) - f(z)]/h\\n```\\n\\nIf f(z) is holomorphic, then its derivative exists at every point in its domain. We can use this fact to compute the partial derivatives of u and v:\\n\\n```\\n∂u/∂x = lim(h->0) [u(x+h, y) - u(x, y)]/h\\n= lim(h->0) [Re(f(z+h)) - Re(f(z))]/h\\n= lim(h->0) [Re(f(z+h) - f(z))]/h\\n= Re(f'(z))\\n```\\n\\nSimilarly, we can compute the other partial derivatives:\\n\\n```\\n∂u/∂y = lim(h->0) [u(x, y+h) - u(x, y)]/h\\n= lim(h->0) [Re(f(z+ih)) - Re(f(z))]/h\\n= lim(h->0) [Re(f(z+ih) - f(z))]/h\\n= Im(f'(z))\\n\\n∂v/∂x = lim(h->0) [v(x+h, y) - v(x, y)]/h\\n= lim(h->0) [Im(f(z+h)) - Im(f(z))]/h\\n= lim(h->0) [Im(f(z+h) - f(z))]/h\\n= -Re(f'(z))\\n\\n∂v/∂y = lim(h->0) [v(x, y+h) - v(x, y)]/h\\n= lim(h->0) [Im(f(z+ih)) - Im(f(z))]/h\\n= lim(h->0) [Im(f(z+ih) - f(z))]/h\\n= -Im(f'(z))\\n```\\n\\nSubstituting these expressions into the Cauchy-Riemann equations, we get:\\n\\n```\\nRe(f'(z)) = Im(f'(z))\\n-Re(f'(z)) = -Im(f'(z))\\n```\\n\\nThese equations are equivalent to the Cauchy-Riemann equations in terms of u and v.\\n\\nThe Cauchy-Riemann equations are a powerful tool for studying complex functions. They can be used to prove many important results, such as the Cauchy integral formula and the residue theorem.\""
      ]
     },
     "execution_count": 76,
     "metadata": {},
     "output_type": "execute_result"
    }
   ],
   "source": [
    "main_chain.invoke(\"What is Cauchy Reimann Equation? Also Proof the equations.\")"
   ]
  },
  {
   "cell_type": "code",
   "execution_count": 47,
   "id": "ab9865e6-75da-4532-b1fa-4d6831f2ec24",
   "metadata": {},
   "outputs": [],
   "source": [
    "from langchain_core.output_parsers import JsonOutputParser"
   ]
  },
  {
   "cell_type": "code",
   "execution_count": 50,
   "id": "2ff1802d-fe96-4e78-9e46-185dc114e1b3",
   "metadata": {},
   "outputs": [],
   "source": [
    "check_prompt = PromptTemplate.from_template(\"\"\"\n",
    "If the given statement is just a task then pick the keywords and make a questions of them to know them and then add the task also after a dot. \n",
    "statement: {statement}\n",
    "\"\"\")\n",
    "task_check_chain = (\n",
    "    {\"statement\": RunnablePassthrough()}\n",
    "    | check_prompt\n",
    "    | genai_llm\n",
    "    | StrOutputParser()\n",
    ")"
   ]
  },
  {
   "cell_type": "code",
   "execution_count": 49,
   "id": "01ac3caa-87ce-4e2d-b20e-faebc9008c1c",
   "metadata": {},
   "outputs": [
    {
     "ename": "OutputParserException",
     "evalue": "Invalid json output: Keywords:\n- Cauchy Reimann Equation\n- Complex Function\n- Partial Derivatives\n- Analytic Function\n\nQuestions:\n- What is the Cauchy Reimann Equation?\n- How is the Cauchy Reimann Equation used to define an analytic function?\n- What are the partial derivatives of a complex function?\n- How are the partial derivatives of a complex function related to the Cauchy Reimann Equation?\n\nTask:\nProve the Cauchy Reimann Equation for a given complex function.",
     "output_type": "error",
     "traceback": [
      "\u001b[1;31m---------------------------------------------------------------------------\u001b[0m",
      "\u001b[1;31mJSONDecodeError\u001b[0m                           Traceback (most recent call last)",
      "File \u001b[1;32mU:\\GeminiProjects\\GENAI_Gemini\\GEMINI\\Lib\\site-packages\\langchain_core\\output_parsers\\json.py:212\u001b[0m, in \u001b[0;36mJsonOutputParser.parse_result\u001b[1;34m(self, result, partial)\u001b[0m\n\u001b[0;32m    211\u001b[0m \u001b[38;5;28;01mtry\u001b[39;00m:\n\u001b[1;32m--> 212\u001b[0m     \u001b[38;5;28;01mreturn\u001b[39;00m \u001b[43mparse_json_markdown\u001b[49m\u001b[43m(\u001b[49m\u001b[43mtext\u001b[49m\u001b[43m)\u001b[49m\n\u001b[0;32m    213\u001b[0m \u001b[38;5;28;01mexcept\u001b[39;00m JSONDecodeError \u001b[38;5;28;01mas\u001b[39;00m e:\n",
      "File \u001b[1;32mU:\\GeminiProjects\\GENAI_Gemini\\GEMINI\\Lib\\site-packages\\langchain_core\\output_parsers\\json.py:157\u001b[0m, in \u001b[0;36mparse_json_markdown\u001b[1;34m(json_string, parser)\u001b[0m\n\u001b[0;32m    156\u001b[0m \u001b[38;5;66;03m# Parse the JSON string into a Python dictionary\u001b[39;00m\n\u001b[1;32m--> 157\u001b[0m parsed \u001b[38;5;241m=\u001b[39m \u001b[43mparser\u001b[49m\u001b[43m(\u001b[49m\u001b[43mjson_str\u001b[49m\u001b[43m)\u001b[49m\n\u001b[0;32m    159\u001b[0m \u001b[38;5;28;01mreturn\u001b[39;00m parsed\n",
      "File \u001b[1;32mU:\\GeminiProjects\\GENAI_Gemini\\GEMINI\\Lib\\site-packages\\langchain_core\\output_parsers\\json.py:125\u001b[0m, in \u001b[0;36mparse_partial_json\u001b[1;34m(s, strict)\u001b[0m\n\u001b[0;32m    122\u001b[0m \u001b[38;5;66;03m# If we got here, we ran out of characters to remove\u001b[39;00m\n\u001b[0;32m    123\u001b[0m \u001b[38;5;66;03m# and still couldn't parse the string as JSON, so return the parse error\u001b[39;00m\n\u001b[0;32m    124\u001b[0m \u001b[38;5;66;03m# for the original string.\u001b[39;00m\n\u001b[1;32m--> 125\u001b[0m \u001b[38;5;28;01mreturn\u001b[39;00m \u001b[43mjson\u001b[49m\u001b[38;5;241;43m.\u001b[39;49m\u001b[43mloads\u001b[49m\u001b[43m(\u001b[49m\u001b[43ms\u001b[49m\u001b[43m,\u001b[49m\u001b[43m \u001b[49m\u001b[43mstrict\u001b[49m\u001b[38;5;241;43m=\u001b[39;49m\u001b[43mstrict\u001b[49m\u001b[43m)\u001b[49m\n",
      "File \u001b[1;32mD:\\Lib\\json\\__init__.py:359\u001b[0m, in \u001b[0;36mloads\u001b[1;34m(s, cls, object_hook, parse_float, parse_int, parse_constant, object_pairs_hook, **kw)\u001b[0m\n\u001b[0;32m    358\u001b[0m     kw[\u001b[38;5;124m'\u001b[39m\u001b[38;5;124mparse_constant\u001b[39m\u001b[38;5;124m'\u001b[39m] \u001b[38;5;241m=\u001b[39m parse_constant\n\u001b[1;32m--> 359\u001b[0m \u001b[38;5;28;01mreturn\u001b[39;00m \u001b[38;5;28;43mcls\u001b[39;49m\u001b[43m(\u001b[49m\u001b[38;5;241;43m*\u001b[39;49m\u001b[38;5;241;43m*\u001b[39;49m\u001b[43mkw\u001b[49m\u001b[43m)\u001b[49m\u001b[38;5;241;43m.\u001b[39;49m\u001b[43mdecode\u001b[49m\u001b[43m(\u001b[49m\u001b[43ms\u001b[49m\u001b[43m)\u001b[49m\n",
      "File \u001b[1;32mD:\\Lib\\json\\decoder.py:337\u001b[0m, in \u001b[0;36mJSONDecoder.decode\u001b[1;34m(self, s, _w)\u001b[0m\n\u001b[0;32m    333\u001b[0m \u001b[38;5;250m\u001b[39m\u001b[38;5;124;03m\"\"\"Return the Python representation of ``s`` (a ``str`` instance\u001b[39;00m\n\u001b[0;32m    334\u001b[0m \u001b[38;5;124;03mcontaining a JSON document).\u001b[39;00m\n\u001b[0;32m    335\u001b[0m \n\u001b[0;32m    336\u001b[0m \u001b[38;5;124;03m\"\"\"\u001b[39;00m\n\u001b[1;32m--> 337\u001b[0m obj, end \u001b[38;5;241m=\u001b[39m \u001b[38;5;28;43mself\u001b[39;49m\u001b[38;5;241;43m.\u001b[39;49m\u001b[43mraw_decode\u001b[49m\u001b[43m(\u001b[49m\u001b[43ms\u001b[49m\u001b[43m,\u001b[49m\u001b[43m \u001b[49m\u001b[43midx\u001b[49m\u001b[38;5;241;43m=\u001b[39;49m\u001b[43m_w\u001b[49m\u001b[43m(\u001b[49m\u001b[43ms\u001b[49m\u001b[43m,\u001b[49m\u001b[43m \u001b[49m\u001b[38;5;241;43m0\u001b[39;49m\u001b[43m)\u001b[49m\u001b[38;5;241;43m.\u001b[39;49m\u001b[43mend\u001b[49m\u001b[43m(\u001b[49m\u001b[43m)\u001b[49m\u001b[43m)\u001b[49m\n\u001b[0;32m    338\u001b[0m end \u001b[38;5;241m=\u001b[39m _w(s, end)\u001b[38;5;241m.\u001b[39mend()\n",
      "File \u001b[1;32mD:\\Lib\\json\\decoder.py:355\u001b[0m, in \u001b[0;36mJSONDecoder.raw_decode\u001b[1;34m(self, s, idx)\u001b[0m\n\u001b[0;32m    354\u001b[0m \u001b[38;5;28;01mexcept\u001b[39;00m \u001b[38;5;167;01mStopIteration\u001b[39;00m \u001b[38;5;28;01mas\u001b[39;00m err:\n\u001b[1;32m--> 355\u001b[0m     \u001b[38;5;28;01mraise\u001b[39;00m JSONDecodeError(\u001b[38;5;124m\"\u001b[39m\u001b[38;5;124mExpecting value\u001b[39m\u001b[38;5;124m\"\u001b[39m, s, err\u001b[38;5;241m.\u001b[39mvalue) \u001b[38;5;28;01mfrom\u001b[39;00m \u001b[38;5;28;01mNone\u001b[39;00m\n\u001b[0;32m    356\u001b[0m \u001b[38;5;28;01mreturn\u001b[39;00m obj, end\n",
      "\u001b[1;31mJSONDecodeError\u001b[0m: Expecting value: line 1 column 1 (char 0)",
      "\nThe above exception was the direct cause of the following exception:\n",
      "\u001b[1;31mOutputParserException\u001b[0m                     Traceback (most recent call last)",
      "Cell \u001b[1;32mIn[49], line 1\u001b[0m\n\u001b[1;32m----> 1\u001b[0m \u001b[43mtask_check_chain\u001b[49m\u001b[38;5;241;43m.\u001b[39;49m\u001b[43minvoke\u001b[49m\u001b[43m(\u001b[49m\u001b[38;5;124;43m\"\u001b[39;49m\u001b[38;5;124;43mProve Cauchy Reimann Equation.\u001b[39;49m\u001b[38;5;124;43m\"\u001b[39;49m\u001b[43m)\u001b[49m\n",
      "File \u001b[1;32mU:\\GeminiProjects\\GENAI_Gemini\\GEMINI\\Lib\\site-packages\\langchain_core\\runnables\\base.py:2053\u001b[0m, in \u001b[0;36mRunnableSequence.invoke\u001b[1;34m(self, input, config)\u001b[0m\n\u001b[0;32m   2051\u001b[0m \u001b[38;5;28;01mtry\u001b[39;00m:\n\u001b[0;32m   2052\u001b[0m     \u001b[38;5;28;01mfor\u001b[39;00m i, step \u001b[38;5;129;01min\u001b[39;00m \u001b[38;5;28menumerate\u001b[39m(\u001b[38;5;28mself\u001b[39m\u001b[38;5;241m.\u001b[39msteps):\n\u001b[1;32m-> 2053\u001b[0m         \u001b[38;5;28minput\u001b[39m \u001b[38;5;241m=\u001b[39m \u001b[43mstep\u001b[49m\u001b[38;5;241;43m.\u001b[39;49m\u001b[43minvoke\u001b[49m\u001b[43m(\u001b[49m\n\u001b[0;32m   2054\u001b[0m \u001b[43m            \u001b[49m\u001b[38;5;28;43minput\u001b[39;49m\u001b[43m,\u001b[49m\n\u001b[0;32m   2055\u001b[0m \u001b[43m            \u001b[49m\u001b[38;5;66;43;03m# mark each step as a child run\u001b[39;49;00m\n\u001b[0;32m   2056\u001b[0m \u001b[43m            \u001b[49m\u001b[43mpatch_config\u001b[49m\u001b[43m(\u001b[49m\n\u001b[0;32m   2057\u001b[0m \u001b[43m                \u001b[49m\u001b[43mconfig\u001b[49m\u001b[43m,\u001b[49m\u001b[43m \u001b[49m\u001b[43mcallbacks\u001b[49m\u001b[38;5;241;43m=\u001b[39;49m\u001b[43mrun_manager\u001b[49m\u001b[38;5;241;43m.\u001b[39;49m\u001b[43mget_child\u001b[49m\u001b[43m(\u001b[49m\u001b[38;5;124;43mf\u001b[39;49m\u001b[38;5;124;43m\"\u001b[39;49m\u001b[38;5;124;43mseq:step:\u001b[39;49m\u001b[38;5;132;43;01m{\u001b[39;49;00m\u001b[43mi\u001b[49m\u001b[38;5;241;43m+\u001b[39;49m\u001b[38;5;241;43m1\u001b[39;49m\u001b[38;5;132;43;01m}\u001b[39;49;00m\u001b[38;5;124;43m\"\u001b[39;49m\u001b[43m)\u001b[49m\n\u001b[0;32m   2058\u001b[0m \u001b[43m            \u001b[49m\u001b[43m)\u001b[49m\u001b[43m,\u001b[49m\n\u001b[0;32m   2059\u001b[0m \u001b[43m        \u001b[49m\u001b[43m)\u001b[49m\n\u001b[0;32m   2060\u001b[0m \u001b[38;5;66;03m# finish the root run\u001b[39;00m\n\u001b[0;32m   2061\u001b[0m \u001b[38;5;28;01mexcept\u001b[39;00m \u001b[38;5;167;01mBaseException\u001b[39;00m \u001b[38;5;28;01mas\u001b[39;00m e:\n",
      "File \u001b[1;32mU:\\GeminiProjects\\GENAI_Gemini\\GEMINI\\Lib\\site-packages\\langchain_core\\output_parsers\\base.py:176\u001b[0m, in \u001b[0;36mBaseOutputParser.invoke\u001b[1;34m(self, input, config)\u001b[0m\n\u001b[0;32m    167\u001b[0m     \u001b[38;5;28;01mreturn\u001b[39;00m \u001b[38;5;28mself\u001b[39m\u001b[38;5;241m.\u001b[39m_call_with_config(\n\u001b[0;32m    168\u001b[0m         \u001b[38;5;28;01mlambda\u001b[39;00m inner_input: \u001b[38;5;28mself\u001b[39m\u001b[38;5;241m.\u001b[39mparse_result(\n\u001b[0;32m    169\u001b[0m             [ChatGeneration(message\u001b[38;5;241m=\u001b[39minner_input)]\n\u001b[1;32m   (...)\u001b[0m\n\u001b[0;32m    173\u001b[0m         run_type\u001b[38;5;241m=\u001b[39m\u001b[38;5;124m\"\u001b[39m\u001b[38;5;124mparser\u001b[39m\u001b[38;5;124m\"\u001b[39m,\n\u001b[0;32m    174\u001b[0m     )\n\u001b[0;32m    175\u001b[0m \u001b[38;5;28;01melse\u001b[39;00m:\n\u001b[1;32m--> 176\u001b[0m     \u001b[38;5;28;01mreturn\u001b[39;00m \u001b[38;5;28;43mself\u001b[39;49m\u001b[38;5;241;43m.\u001b[39;49m\u001b[43m_call_with_config\u001b[49m\u001b[43m(\u001b[49m\n\u001b[0;32m    177\u001b[0m \u001b[43m        \u001b[49m\u001b[38;5;28;43;01mlambda\u001b[39;49;00m\u001b[43m \u001b[49m\u001b[43minner_input\u001b[49m\u001b[43m:\u001b[49m\u001b[43m \u001b[49m\u001b[38;5;28;43mself\u001b[39;49m\u001b[38;5;241;43m.\u001b[39;49m\u001b[43mparse_result\u001b[49m\u001b[43m(\u001b[49m\u001b[43m[\u001b[49m\u001b[43mGeneration\u001b[49m\u001b[43m(\u001b[49m\u001b[43mtext\u001b[49m\u001b[38;5;241;43m=\u001b[39;49m\u001b[43minner_input\u001b[49m\u001b[43m)\u001b[49m\u001b[43m]\u001b[49m\u001b[43m)\u001b[49m\u001b[43m,\u001b[49m\n\u001b[0;32m    178\u001b[0m \u001b[43m        \u001b[49m\u001b[38;5;28;43minput\u001b[39;49m\u001b[43m,\u001b[49m\n\u001b[0;32m    179\u001b[0m \u001b[43m        \u001b[49m\u001b[43mconfig\u001b[49m\u001b[43m,\u001b[49m\n\u001b[0;32m    180\u001b[0m \u001b[43m        \u001b[49m\u001b[43mrun_type\u001b[49m\u001b[38;5;241;43m=\u001b[39;49m\u001b[38;5;124;43m\"\u001b[39;49m\u001b[38;5;124;43mparser\u001b[39;49m\u001b[38;5;124;43m\"\u001b[39;49m\u001b[43m,\u001b[49m\n\u001b[0;32m    181\u001b[0m \u001b[43m    \u001b[49m\u001b[43m)\u001b[49m\n",
      "File \u001b[1;32mU:\\GeminiProjects\\GENAI_Gemini\\GEMINI\\Lib\\site-packages\\langchain_core\\runnables\\base.py:1246\u001b[0m, in \u001b[0;36mRunnable._call_with_config\u001b[1;34m(self, func, input, config, run_type, **kwargs)\u001b[0m\n\u001b[0;32m   1242\u001b[0m     context \u001b[38;5;241m=\u001b[39m copy_context()\n\u001b[0;32m   1243\u001b[0m     context\u001b[38;5;241m.\u001b[39mrun(var_child_runnable_config\u001b[38;5;241m.\u001b[39mset, child_config)\n\u001b[0;32m   1244\u001b[0m     output \u001b[38;5;241m=\u001b[39m cast(\n\u001b[0;32m   1245\u001b[0m         Output,\n\u001b[1;32m-> 1246\u001b[0m         \u001b[43mcontext\u001b[49m\u001b[38;5;241;43m.\u001b[39;49m\u001b[43mrun\u001b[49m\u001b[43m(\u001b[49m\n\u001b[0;32m   1247\u001b[0m \u001b[43m            \u001b[49m\u001b[43mcall_func_with_variable_args\u001b[49m\u001b[43m,\u001b[49m\n\u001b[0;32m   1248\u001b[0m \u001b[43m            \u001b[49m\u001b[43mfunc\u001b[49m\u001b[43m,\u001b[49m\u001b[43m  \u001b[49m\u001b[38;5;66;43;03m# type: ignore[arg-type]\u001b[39;49;00m\n\u001b[0;32m   1249\u001b[0m \u001b[43m            \u001b[49m\u001b[38;5;28;43minput\u001b[39;49m\u001b[43m,\u001b[49m\u001b[43m  \u001b[49m\u001b[38;5;66;43;03m# type: ignore[arg-type]\u001b[39;49;00m\n\u001b[0;32m   1250\u001b[0m \u001b[43m            \u001b[49m\u001b[43mconfig\u001b[49m\u001b[43m,\u001b[49m\n\u001b[0;32m   1251\u001b[0m \u001b[43m            \u001b[49m\u001b[43mrun_manager\u001b[49m\u001b[43m,\u001b[49m\n\u001b[0;32m   1252\u001b[0m \u001b[43m            \u001b[49m\u001b[38;5;241;43m*\u001b[39;49m\u001b[38;5;241;43m*\u001b[39;49m\u001b[43mkwargs\u001b[49m\u001b[43m,\u001b[49m\n\u001b[0;32m   1253\u001b[0m \u001b[43m        \u001b[49m\u001b[43m)\u001b[49m,\n\u001b[0;32m   1254\u001b[0m     )\n\u001b[0;32m   1255\u001b[0m \u001b[38;5;28;01mexcept\u001b[39;00m \u001b[38;5;167;01mBaseException\u001b[39;00m \u001b[38;5;28;01mas\u001b[39;00m e:\n\u001b[0;32m   1256\u001b[0m     run_manager\u001b[38;5;241m.\u001b[39mon_chain_error(e)\n",
      "File \u001b[1;32mU:\\GeminiProjects\\GENAI_Gemini\\GEMINI\\Lib\\site-packages\\langchain_core\\runnables\\config.py:326\u001b[0m, in \u001b[0;36mcall_func_with_variable_args\u001b[1;34m(func, input, config, run_manager, **kwargs)\u001b[0m\n\u001b[0;32m    324\u001b[0m \u001b[38;5;28;01mif\u001b[39;00m run_manager \u001b[38;5;129;01mis\u001b[39;00m \u001b[38;5;129;01mnot\u001b[39;00m \u001b[38;5;28;01mNone\u001b[39;00m \u001b[38;5;129;01mand\u001b[39;00m accepts_run_manager(func):\n\u001b[0;32m    325\u001b[0m     kwargs[\u001b[38;5;124m\"\u001b[39m\u001b[38;5;124mrun_manager\u001b[39m\u001b[38;5;124m\"\u001b[39m] \u001b[38;5;241m=\u001b[39m run_manager\n\u001b[1;32m--> 326\u001b[0m \u001b[38;5;28;01mreturn\u001b[39;00m \u001b[43mfunc\u001b[49m\u001b[43m(\u001b[49m\u001b[38;5;28;43minput\u001b[39;49m\u001b[43m,\u001b[49m\u001b[43m \u001b[49m\u001b[38;5;241;43m*\u001b[39;49m\u001b[38;5;241;43m*\u001b[39;49m\u001b[43mkwargs\u001b[49m\u001b[43m)\u001b[49m\n",
      "File \u001b[1;32mU:\\GeminiProjects\\GENAI_Gemini\\GEMINI\\Lib\\site-packages\\langchain_core\\output_parsers\\base.py:177\u001b[0m, in \u001b[0;36mBaseOutputParser.invoke.<locals>.<lambda>\u001b[1;34m(inner_input)\u001b[0m\n\u001b[0;32m    167\u001b[0m     \u001b[38;5;28;01mreturn\u001b[39;00m \u001b[38;5;28mself\u001b[39m\u001b[38;5;241m.\u001b[39m_call_with_config(\n\u001b[0;32m    168\u001b[0m         \u001b[38;5;28;01mlambda\u001b[39;00m inner_input: \u001b[38;5;28mself\u001b[39m\u001b[38;5;241m.\u001b[39mparse_result(\n\u001b[0;32m    169\u001b[0m             [ChatGeneration(message\u001b[38;5;241m=\u001b[39minner_input)]\n\u001b[1;32m   (...)\u001b[0m\n\u001b[0;32m    173\u001b[0m         run_type\u001b[38;5;241m=\u001b[39m\u001b[38;5;124m\"\u001b[39m\u001b[38;5;124mparser\u001b[39m\u001b[38;5;124m\"\u001b[39m,\n\u001b[0;32m    174\u001b[0m     )\n\u001b[0;32m    175\u001b[0m \u001b[38;5;28;01melse\u001b[39;00m:\n\u001b[0;32m    176\u001b[0m     \u001b[38;5;28;01mreturn\u001b[39;00m \u001b[38;5;28mself\u001b[39m\u001b[38;5;241m.\u001b[39m_call_with_config(\n\u001b[1;32m--> 177\u001b[0m         \u001b[38;5;28;01mlambda\u001b[39;00m inner_input: \u001b[38;5;28;43mself\u001b[39;49m\u001b[38;5;241;43m.\u001b[39;49m\u001b[43mparse_result\u001b[49m\u001b[43m(\u001b[49m\u001b[43m[\u001b[49m\u001b[43mGeneration\u001b[49m\u001b[43m(\u001b[49m\u001b[43mtext\u001b[49m\u001b[38;5;241;43m=\u001b[39;49m\u001b[43minner_input\u001b[49m\u001b[43m)\u001b[49m\u001b[43m]\u001b[49m\u001b[43m)\u001b[49m,\n\u001b[0;32m    178\u001b[0m         \u001b[38;5;28minput\u001b[39m,\n\u001b[0;32m    179\u001b[0m         config,\n\u001b[0;32m    180\u001b[0m         run_type\u001b[38;5;241m=\u001b[39m\u001b[38;5;124m\"\u001b[39m\u001b[38;5;124mparser\u001b[39m\u001b[38;5;124m\"\u001b[39m,\n\u001b[0;32m    181\u001b[0m     )\n",
      "File \u001b[1;32mU:\\GeminiProjects\\GENAI_Gemini\\GEMINI\\Lib\\site-packages\\langchain_core\\output_parsers\\json.py:214\u001b[0m, in \u001b[0;36mJsonOutputParser.parse_result\u001b[1;34m(self, result, partial)\u001b[0m\n\u001b[0;32m    212\u001b[0m     \u001b[38;5;28;01mreturn\u001b[39;00m parse_json_markdown(text)\n\u001b[0;32m    213\u001b[0m \u001b[38;5;28;01mexcept\u001b[39;00m JSONDecodeError \u001b[38;5;28;01mas\u001b[39;00m e:\n\u001b[1;32m--> 214\u001b[0m     \u001b[38;5;28;01mraise\u001b[39;00m OutputParserException(\u001b[38;5;124mf\u001b[39m\u001b[38;5;124m\"\u001b[39m\u001b[38;5;124mInvalid json output: \u001b[39m\u001b[38;5;132;01m{\u001b[39;00mtext\u001b[38;5;132;01m}\u001b[39;00m\u001b[38;5;124m\"\u001b[39m) \u001b[38;5;28;01mfrom\u001b[39;00m \u001b[38;5;21;01me\u001b[39;00m\n",
      "\u001b[1;31mOutputParserException\u001b[0m: Invalid json output: Keywords:\n- Cauchy Reimann Equation\n- Complex Function\n- Partial Derivatives\n- Analytic Function\n\nQuestions:\n- What is the Cauchy Reimann Equation?\n- How is the Cauchy Reimann Equation used to define an analytic function?\n- What are the partial derivatives of a complex function?\n- How are the partial derivatives of a complex function related to the Cauchy Reimann Equation?\n\nTask:\nProve the Cauchy Reimann Equation for a given complex function."
     ]
    }
   ],
   "source": [
    "task_check_chain.invoke(\"Prove Cauchy Reimann Equation.\")"
   ]
  },
  {
   "cell_type": "code",
   "execution_count": 44,
   "id": "a505cf20-5567-4a5c-b107-1adadee0b33e",
   "metadata": {},
   "outputs": [
    {
     "data": {
      "text/plain": [
       "\"Keywords:\\n- Cauchy Reimann Equation\\n- Complex Function\\n- Partial Derivatives\\n- Analytic Function\\n\\nQuestions:\\n- What is the Cauchy Reimann Equation?\\n- How is the Cauchy Reimann Equation used to define an analytic function?\\n- What are the partial derivatives of a complex function?\\n- How are the partial derivatives of a complex function related to the Cauchy Reimann Equation?\\n\\nTask:\\nProve the Cauchy Reimann Equation for a given complex function.\\n\\nAnswers:\\n- The Cauchy Reimann Equation is a system of two partial differential equations that relate the partial derivatives of the real and imaginary parts of a complex function.\\n- The Cauchy Reimann Equation is used to define an analytic function. A complex function is analytic at a point if it satisfies the Cauchy Reimann Equation at that point.\\n- The partial derivatives of a complex function are the derivatives of the real and imaginary parts of the function with respect to the real and imaginary parts of the independent variable.\\n- The partial derivatives of a complex function are related to the Cauchy Reimann Equation by the following equations:\\n\\n```\\nu_x = v_y\\nu_y = -v_x\\n```\\n\\nwhere u and v are the real and imaginary parts of the complex function, respectively.\\n\\nProof of the Cauchy Reimann Equation:\\n\\nLet f(z) be a complex function defined by\\n\\n```\\nf(z) = u(x, y) + iv(x, y)\\n```\\n\\nwhere u and v are real-valued functions of the real variables x and y.\\n\\nThe partial derivatives of f(z) are given by\\n\\n```\\nf'(z) = u_x(x, y) + iv_x(x, y)\\n```\\n\\nand\\n\\n```\\nf'(z) = u_y(x, y) + iv_y(x, y)\\n```\\n\\nIf f(z) is analytic at a point z0, then f'(z0) exists. This means that the partial derivatives of u and v exist at (x0, y0), where z0 = x0 + iy0.\\n\\nThe Cauchy Reimann Equation is a system of two partial differential equations that relate the partial derivatives of u and v. These equations are\\n\\n```\\nu_x = v_y\\nu_y = -v_x\\n```\\n\\nTo prove the Cauchy Reimann Equation, we need to show that these equations hold at (x0, y0).\\n\\nDifferentiating the first equation with respect to y and the second equation with respect to x, we get\\n\\n```\\nu_{xy} = v_{yy}\\nu_{yx} = -v_{xy}\\n```\\n\\nSince the mixed partial derivatives of u and v are equal, we have\\n\\n```\\nu_{xy} = u_{yx}\\n```\\n\\nThis implies that\\n\\n```\\nv_{yy} = -v_{xy}\\n```\\n\\nIntegrating both sides of this equation with respect to y, we get\\n\\n```\\nv_y = -v_x + g(x)\\n```\\n\\nwhere g(x) is a function of x.\\n\\nSubstituting this expression for v_y into the first equation of the Cauchy Reimann Equation, we get\\n\\n```\\nu_x = -v_x + g(x)\\n```\\n\\nIntegrating both sides of this equation with respect to x, we get\\n\\n```\\nu = -v + g(x)y + h(y)\\n```\\n\\nwhere h(y) is a function of y.\\n\\nSubstituting this expression for u into the second equation of the Cauchy Reimann Equation, we get\\n\\n```\\n-v_x + g(x)y + h'(y) = -v_x\\n```\\n\\nThis implies that\\n\\n```\\ng(x)y + h'(y) = 0\\n```\\n\\nSince this equation must hold for all values of x and y, we must have\\n\\n```\\ng(x) = 0\\n```\\n\\nand\\n\\n```\\nh'(y) = 0\\n```\\n\\nThis implies that\\n\\n```\\nu = -v + C\\n```\\n\\nwhere C is a constant.\\n\\nTherefore, the Cauchy Reimann Equation holds at (x0, y0), and hence f(z) is analytic at z0.\""
      ]
     },
     "execution_count": 44,
     "metadata": {},
     "output_type": "execute_result"
    }
   ],
   "source": [
    "main_chain.invoke(\"Keywords:\\n- Cauchy Reimann Equation\\n- Complex Function\\n- Partial Derivatives\\n- Analytic Function\\n\\nQuestions:\\n- What is the Cauchy Reimann Equation?\\n- How is the Cauchy Reimann Equation used to define an analytic function?\\n- What are the partial derivatives of a complex function?\\n- How are the partial derivatives of a complex function related to the Cauchy Reimann Equation?\\n\\nTask:\\nProve the Cauchy Reimann Equation for a given complex function.'\")"
   ]
  },
  {
   "cell_type": "code",
   "execution_count": 45,
   "id": "f570f5a5-a3ee-4245-a9d1-725b9e517ef5",
   "metadata": {},
   "outputs": [
    {
     "name": "stdout",
     "output_type": "stream",
     "text": [
      "Keywords:\n",
      "- Cauchy Reimann Equation\n",
      "- Complex Function\n",
      "- Partial Derivatives\n",
      "- Analytic Function\n",
      "\n",
      "Questions:\n",
      "- What is the Cauchy Reimann Equation?\n",
      "- How is the Cauchy Reimann Equation used to define an analytic function?\n",
      "- What are the partial derivatives of a complex function?\n",
      "- How are the partial derivatives of a complex function related to the Cauchy Reimann Equation?\n",
      "\n",
      "Task:\n",
      "Prove the Cauchy Reimann Equation for a given complex function.\n",
      "\n",
      "Answers:\n",
      "- The Cauchy Reimann Equation is a system of two partial differential equations that relate the partial derivatives of the real and imaginary parts of a complex function.\n",
      "- The Cauchy Reimann Equation is used to define an analytic function. A complex function is analytic at a point if it satisfies the Cauchy Reimann Equation at that point.\n",
      "- The partial derivatives of a complex function are the derivatives of the real and imaginary parts of the function with respect to the real and imaginary parts of the independent variable.\n",
      "- The partial derivatives of a complex function are related to the Cauchy Reimann Equation by the following equations:\n",
      "\n",
      "```\n",
      "u_x = v_y\n",
      "u_y = -v_x\n",
      "```\n",
      "\n",
      "where u and v are the real and imaginary parts of the complex function, respectively.\n",
      "\n",
      "Proof of the Cauchy Reimann Equation:\n",
      "\n",
      "Let f(z) be a complex function defined by\n",
      "\n",
      "```\n",
      "f(z) = u(x, y) + iv(x, y)\n",
      "```\n",
      "\n",
      "where u and v are real-valued functions of the real variables x and y.\n",
      "\n",
      "The partial derivatives of f(z) are given by\n",
      "\n",
      "```\n",
      "f'(z) = u_x(x, y) + iv_x(x, y)\n",
      "```\n",
      "\n",
      "and\n",
      "\n",
      "```\n",
      "f'(z) = u_y(x, y) + iv_y(x, y)\n",
      "```\n",
      "\n",
      "If f(z) is analytic at a point z0, then f'(z0) exists. This means that the partial derivatives of u and v exist at (x0, y0), where z0 = x0 + iy0.\n",
      "\n",
      "The Cauchy Reimann Equation is a system of two partial differential equations that relate the partial derivatives of u and v. These equations are\n",
      "\n",
      "```\n",
      "u_x = v_y\n",
      "u_y = -v_x\n",
      "```\n",
      "\n",
      "To prove the Cauchy Reimann Equation, we need to show that these equations hold at (x0, y0).\n",
      "\n",
      "Differentiating the first equation with respect to y and the second equation with respect to x, we get\n",
      "\n",
      "```\n",
      "u_{xy} = v_{yy}\n",
      "u_{yx} = -v_{xy}\n",
      "```\n",
      "\n",
      "Since the mixed partial derivatives of u and v are equal, we have\n",
      "\n",
      "```\n",
      "u_{xy} = u_{yx}\n",
      "```\n",
      "\n",
      "This implies that\n",
      "\n",
      "```\n",
      "v_{yy} = -v_{xy}\n",
      "```\n",
      "\n",
      "Integrating both sides of this equation with respect to y, we get\n",
      "\n",
      "```\n",
      "v_y = -v_x + g(x)\n",
      "```\n",
      "\n",
      "where g(x) is a function of x.\n",
      "\n",
      "Substituting this expression for v_y into the first equation of the Cauchy Reimann Equation, we get\n",
      "\n",
      "```\n",
      "u_x = -v_x + g(x)\n",
      "```\n",
      "\n",
      "Integrating both sides of this equation with respect to x, we get\n",
      "\n",
      "```\n",
      "u = -v + g(x)y + h(y)\n",
      "```\n",
      "\n",
      "where h(y) is a function of y.\n",
      "\n",
      "Substituting this expression for u into the second equation of the Cauchy Reimann Equation, we get\n",
      "\n",
      "```\n",
      "-v_x + g(x)y + h'(y) = -v_x\n",
      "```\n",
      "\n",
      "This implies that\n",
      "\n",
      "```\n",
      "g(x)y + h'(y) = 0\n",
      "```\n",
      "\n",
      "Since this equation must hold for all values of x and y, we must have\n",
      "\n",
      "```\n",
      "g(x) = 0\n",
      "```\n",
      "\n",
      "and\n",
      "\n",
      "```\n",
      "h'(y) = 0\n",
      "```\n",
      "\n",
      "This implies that\n",
      "\n",
      "```\n",
      "u = -v + C\n",
      "```\n",
      "\n",
      "where C is a constant.\n",
      "\n",
      "Therefore, the Cauchy Reimann Equation holds at (x0, y0), and hence f(z) is analytic at z0.\n"
     ]
    }
   ],
   "source": [
    "print(\"Keywords:\\n- Cauchy Reimann Equation\\n- Complex Function\\n- Partial Derivatives\\n- Analytic Function\\n\\nQuestions:\\n- What is the Cauchy Reimann Equation?\\n- How is the Cauchy Reimann Equation used to define an analytic function?\\n- What are the partial derivatives of a complex function?\\n- How are the partial derivatives of a complex function related to the Cauchy Reimann Equation?\\n\\nTask:\\nProve the Cauchy Reimann Equation for a given complex function.\\n\\nAnswers:\\n- The Cauchy Reimann Equation is a system of two partial differential equations that relate the partial derivatives of the real and imaginary parts of a complex function.\\n- The Cauchy Reimann Equation is used to define an analytic function. A complex function is analytic at a point if it satisfies the Cauchy Reimann Equation at that point.\\n- The partial derivatives of a complex function are the derivatives of the real and imaginary parts of the function with respect to the real and imaginary parts of the independent variable.\\n- The partial derivatives of a complex function are related to the Cauchy Reimann Equation by the following equations:\\n\\n```\\nu_x = v_y\\nu_y = -v_x\\n```\\n\\nwhere u and v are the real and imaginary parts of the complex function, respectively.\\n\\nProof of the Cauchy Reimann Equation:\\n\\nLet f(z) be a complex function defined by\\n\\n```\\nf(z) = u(x, y) + iv(x, y)\\n```\\n\\nwhere u and v are real-valued functions of the real variables x and y.\\n\\nThe partial derivatives of f(z) are given by\\n\\n```\\nf'(z) = u_x(x, y) + iv_x(x, y)\\n```\\n\\nand\\n\\n```\\nf'(z) = u_y(x, y) + iv_y(x, y)\\n```\\n\\nIf f(z) is analytic at a point z0, then f'(z0) exists. This means that the partial derivatives of u and v exist at (x0, y0), where z0 = x0 + iy0.\\n\\nThe Cauchy Reimann Equation is a system of two partial differential equations that relate the partial derivatives of u and v. These equations are\\n\\n```\\nu_x = v_y\\nu_y = -v_x\\n```\\n\\nTo prove the Cauchy Reimann Equation, we need to show that these equations hold at (x0, y0).\\n\\nDifferentiating the first equation with respect to y and the second equation with respect to x, we get\\n\\n```\\nu_{xy} = v_{yy}\\nu_{yx} = -v_{xy}\\n```\\n\\nSince the mixed partial derivatives of u and v are equal, we have\\n\\n```\\nu_{xy} = u_{yx}\\n```\\n\\nThis implies that\\n\\n```\\nv_{yy} = -v_{xy}\\n```\\n\\nIntegrating both sides of this equation with respect to y, we get\\n\\n```\\nv_y = -v_x + g(x)\\n```\\n\\nwhere g(x) is a function of x.\\n\\nSubstituting this expression for v_y into the first equation of the Cauchy Reimann Equation, we get\\n\\n```\\nu_x = -v_x + g(x)\\n```\\n\\nIntegrating both sides of this equation with respect to x, we get\\n\\n```\\nu = -v + g(x)y + h(y)\\n```\\n\\nwhere h(y) is a function of y.\\n\\nSubstituting this expression for u into the second equation of the Cauchy Reimann Equation, we get\\n\\n```\\n-v_x + g(x)y + h'(y) = -v_x\\n```\\n\\nThis implies that\\n\\n```\\ng(x)y + h'(y) = 0\\n```\\n\\nSince this equation must hold for all values of x and y, we must have\\n\\n```\\ng(x) = 0\\n```\\n\\nand\\n\\n```\\nh'(y) = 0\\n```\\n\\nThis implies that\\n\\n```\\nu = -v + C\\n```\\n\\nwhere C is a constant.\\n\\nTherefore, the Cauchy Reimann Equation holds at (x0, y0), and hence f(z) is analytic at z0.\")"
   ]
  },
  {
   "cell_type": "code",
   "execution_count": null,
   "id": "42145edb-5f01-4566-8d58-d80ecdabf9f7",
   "metadata": {},
   "outputs": [],
   "source": []
  }
 ],
 "metadata": {
  "kernelspec": {
   "display_name": "Python 3 (ipykernel)",
   "language": "python",
   "name": "python3"
  },
  "language_info": {
   "codemirror_mode": {
    "name": "ipython",
    "version": 3
   },
   "file_extension": ".py",
   "mimetype": "text/x-python",
   "name": "python",
   "nbconvert_exporter": "python",
   "pygments_lexer": "ipython3",
   "version": "3.12.1"
  }
 },
 "nbformat": 4,
 "nbformat_minor": 5
}
