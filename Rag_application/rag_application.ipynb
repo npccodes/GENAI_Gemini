{
 "cells": [
  {
   "cell_type": "code",
   "execution_count": 1,
   "id": "8db57227-1d12-4550-a872-40b9e88509ac",
   "metadata": {},
   "outputs": [
    {
     "data": {
      "text/plain": [
       "True"
      ]
     },
     "execution_count": 1,
     "metadata": {},
     "output_type": "execute_result"
    }
   ],
   "source": [
    "import os\n",
    "from dotenv import load_dotenv\n",
    "load_dotenv()"
   ]
  },
  {
   "cell_type": "code",
   "execution_count": 2,
   "id": "e63b9766-63d1-4aee-8a36-320c4e4e7d7d",
   "metadata": {},
   "outputs": [],
   "source": [
    "Gemini_api_key = os.environ[\"GEMINI_API_KEY\"]"
   ]
  },
  {
   "cell_type": "code",
   "execution_count": 3,
   "id": "79d227b4-ed3e-4153-90c1-be1353077637",
   "metadata": {},
   "outputs": [],
   "source": [
    "from langchain_google_genai import ChatGoogleGenerativeAI\n",
    "from langchain_google_genai import GoogleGenerativeAIEmbeddings\n",
    "from langchain.text_splitter import RecursiveCharacterTextSplitter\n",
    "from langchain_community.document_loaders import PyPDFLoader\n",
    "from langchain import hub"
   ]
  },
  {
   "cell_type": "code",
   "execution_count": 4,
   "id": "cb5912db-825b-4607-8586-7c611a55d3f3",
   "metadata": {},
   "outputs": [],
   "source": [
    "from langchain_core.runnables import RunnablePassthrough\n",
    "from langchain_core.output_parsers import StrOutputParser\n",
    "from langchain_community.vectorstores import AstraDB"
   ]
  },
  {
   "cell_type": "code",
   "execution_count": 5,
   "id": "40fd898a-1734-4ed1-b489-2fd638a946cb",
   "metadata": {},
   "outputs": [],
   "source": [
    "GoogleGeminiEmbeddings = GoogleGenerativeAIEmbeddings(model=\"models/embedding-001\",google_api_key=Gemini_api_key )"
   ]
  },
  {
   "cell_type": "code",
   "execution_count": 6,
   "id": "f900f0dc-578a-4a7c-b39b-440f572f96e3",
   "metadata": {},
   "outputs": [],
   "source": [
    "loader = PyPDFLoader(\"./Brown_Churchill_Complex_Variables_and_Ap.pdf\")\n",
    "pages = loader.load_and_split()"
   ]
  },
  {
   "cell_type": "code",
   "execution_count": 7,
   "id": "58f2552d-5b1a-42a1-8a13-a28fc7fa8c1a",
   "metadata": {},
   "outputs": [],
   "source": [
    "ASTRA_DB_API_ENDPOINT = os.environ[\"ASTRA_DB_API_ENDPOINT\"]\n",
    "ASTRA_DB_APPLICATION_TOKEN = os.environ[\"ASTRA_DB_APPLICATION_TOKEN\"]"
   ]
  },
  {
   "cell_type": "code",
   "execution_count": 20,
   "id": "cdf41008-8c9c-42af-93b6-306449d72bdb",
   "metadata": {},
   "outputs": [],
   "source": [
    "text_splitter = RecursiveCharacterTextSplitter(chunk_size =1200, chunk_overlap = 400)\n",
    "splits = text_splitter.split_documents(pages)"
   ]
  },
  {
   "cell_type": "code",
   "execution_count": 21,
   "id": "c3565257-662d-496a-93da-cb8acd666bbb",
   "metadata": {},
   "outputs": [],
   "source": [
    "vstore = AstraDB(\n",
    "    embedding=GoogleGeminiEmbeddings,\n",
    "    collection_name=\"Complex_variables\",\n",
    "    api_endpoint=ASTRA_DB_API_ENDPOINT,\n",
    "    token=ASTRA_DB_APPLICATION_TOKEN,\n",
    ")"
   ]
  },
  {
   "cell_type": "code",
   "execution_count": 22,
   "id": "ac72f007-d22c-4c39-a7e5-e9ebd08a4611",
   "metadata": {
    "scrolled": true
   },
   "outputs": [],
   "source": [
    "ids = vstore.add_documents(splits)"
   ]
  },
  {
   "cell_type": "code",
   "execution_count": 23,
   "id": "f75ea29d-c655-4a4f-9efc-c2ece2b48f00",
   "metadata": {},
   "outputs": [],
   "source": [
    "retriever = vstore.as_retriever()\n",
    "prompt = hub.pull(\"rlm/rag-prompt\")\n",
    "llm = ChatGoogleGenerativeAI(model=\"gemini-pro\", temperature=0.4, google_api_key=Gemini_api_key)"
   ]
  },
  {
   "cell_type": "code",
   "execution_count": 31,
   "id": "63759e94-d51d-457d-99e2-eaeb826b2afc",
   "metadata": {},
   "outputs": [],
   "source": [
    "def pages_adjustments(pages):\n",
    "    return \"\\n\\n\".join(page.page_content for page in pages)"
   ]
  },
  {
   "cell_type": "code",
   "execution_count": 32,
   "id": "d1b68b34-effd-4549-8ac6-2c6343bc25c0",
   "metadata": {},
   "outputs": [],
   "source": [
    "context_chain = retriever | pages_adjustments"
   ]
  },
  {
   "cell_type": "code",
   "execution_count": 34,
   "id": "ede283ba-975f-4374-a4a5-d666eba95db4",
   "metadata": {},
   "outputs": [],
   "source": [
    "main_chain = (\n",
    "    {\"context\" : context_chain, \"question\": RunnablePassthrough()}\n",
    "    | prompt\n",
    "    | llm\n",
    "    | StrOutputParser()\n",
    ")"
   ]
  },
  {
   "cell_type": "code",
   "execution_count": 39,
   "id": "503439bb-cae7-4242-85e5-5ec2efb1d294",
   "metadata": {},
   "outputs": [
    {
     "data": {
      "text/plain": [
       "'I apologize, but the proof of the theorem \"If f(z) = 0 everywhere in a domain D, then f (z) must be constant throughout D\" is not provided in the context you provided. Therefore, I cannot answer your question.'"
      ]
     },
     "execution_count": 39,
     "metadata": {},
     "output_type": "execute_result"
    }
   ],
   "source": [
    "main_chain.invoke(\"Give proof of this theorem If f(z) = 0 everywhere in a domain D, then f (z) must be constant throughout D\")"
   ]
  },
  {
   "cell_type": "code",
   "execution_count": null,
   "id": "1e1c9bd6-672a-4723-ac60-c42c6d1b5749",
   "metadata": {},
   "outputs": [],
   "source": []
  }
 ],
 "metadata": {
  "kernelspec": {
   "display_name": "Python 3 (ipykernel)",
   "language": "python",
   "name": "python3"
  },
  "language_info": {
   "codemirror_mode": {
    "name": "ipython",
    "version": 3
   },
   "file_extension": ".py",
   "mimetype": "text/x-python",
   "name": "python",
   "nbconvert_exporter": "python",
   "pygments_lexer": "ipython3",
   "version": "3.12.1"
  }
 },
 "nbformat": 4,
 "nbformat_minor": 5
}
