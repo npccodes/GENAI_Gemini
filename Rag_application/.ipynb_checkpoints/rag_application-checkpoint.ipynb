{
 "cells": [
  {
   "cell_type": "code",
   "execution_count": 1,
   "id": "8db57227-1d12-4550-a872-40b9e88509ac",
   "metadata": {},
   "outputs": [
    {
     "data": {
      "text/plain": [
       "True"
      ]
     },
     "execution_count": 1,
     "metadata": {},
     "output_type": "execute_result"
    }
   ],
   "source": [
    "import os\n",
    "from dotenv import load_dotenv\n",
    "load_dotenv()"
   ]
  },
  {
   "cell_type": "code",
   "execution_count": 2,
   "id": "e63b9766-63d1-4aee-8a36-320c4e4e7d7d",
   "metadata": {},
   "outputs": [],
   "source": [
    "Gemini_api_key = os.environ[\"GEMINI_API_KEY\"]"
   ]
  },
  {
   "cell_type": "code",
   "execution_count": 3,
   "id": "9a0c889a-6d78-4244-a524-ba0002e0303d",
   "metadata": {},
   "outputs": [],
   "source": [
    "from langchain_google_genai import GoogleGenerativeAI"
   ]
  },
  {
   "cell_type": "code",
   "execution_count": 4,
   "id": "79d227b4-ed3e-4153-90c1-be1353077637",
   "metadata": {},
   "outputs": [],
   "source": [
    "from langchain_google_genai import ChatGoogleGenerativeAI\n",
    "from langchain_google_genai import GoogleGenerativeAIEmbeddings\n",
    "from langchain.text_splitter import RecursiveCharacterTextSplitter\n",
    "from langchain_community.document_loaders import PyPDFLoader\n",
    "from langchain import hub"
   ]
  },
  {
   "cell_type": "code",
   "execution_count": 5,
   "id": "cb5912db-825b-4607-8586-7c611a55d3f3",
   "metadata": {},
   "outputs": [],
   "source": [
    "from langchain_core.runnables import RunnablePassthrough\n",
    "from langchain_core.output_parsers import StrOutputParser\n",
    "from langchain_community.vectorstores import AstraDB"
   ]
  },
  {
   "cell_type": "code",
   "execution_count": 6,
   "id": "36e0306d-4c5d-4f51-b32f-3d49faf7a8b6",
   "metadata": {},
   "outputs": [],
   "source": [
    "from langchain.prompts import PromptTemplate"
   ]
  },
  {
   "cell_type": "code",
   "execution_count": 7,
   "id": "40fd898a-1734-4ed1-b489-2fd638a946cb",
   "metadata": {},
   "outputs": [],
   "source": [
    "GoogleGeminiEmbeddings = GoogleGenerativeAIEmbeddings(model=\"models/embedding-001\",google_api_key=Gemini_api_key )"
   ]
  },
  {
   "cell_type": "code",
   "execution_count": 8,
   "id": "f900f0dc-578a-4a7c-b39b-440f572f96e3",
   "metadata": {},
   "outputs": [],
   "source": [
    "loader = PyPDFLoader(\"./Brown_Churchill_Complex_Variables_and_Ap.pdf\")\n",
    "pages = loader.load_and_split()"
   ]
  },
  {
   "cell_type": "code",
   "execution_count": 9,
   "id": "58f2552d-5b1a-42a1-8a13-a28fc7fa8c1a",
   "metadata": {},
   "outputs": [],
   "source": [
    "ASTRA_DB_API_ENDPOINT = os.environ[\"ASTRA_DB_API_ENDPOINT\"]\n",
    "ASTRA_DB_APPLICATION_TOKEN = os.environ[\"ASTRA_DB_APPLICATION_TOKEN\"]"
   ]
  },
  {
   "cell_type": "code",
   "execution_count": 10,
   "id": "cdf41008-8c9c-42af-93b6-306449d72bdb",
   "metadata": {},
   "outputs": [],
   "source": [
    "text_splitter = RecursiveCharacterTextSplitter(chunk_size =1200, chunk_overlap = 400)\n",
    "splits = text_splitter.split_documents(pages)"
   ]
  },
  {
   "cell_type": "code",
   "execution_count": 11,
   "id": "c3565257-662d-496a-93da-cb8acd666bbb",
   "metadata": {},
   "outputs": [],
   "source": [
    "vstore = AstraDB(\n",
    "    embedding=GoogleGeminiEmbeddings,\n",
    "    collection_name=\"Complex_variables\",\n",
    "    api_endpoint=ASTRA_DB_API_ENDPOINT,\n",
    "    token=ASTRA_DB_APPLICATION_TOKEN,\n",
    ")"
   ]
  },
  {
   "cell_type": "code",
   "execution_count": 12,
   "id": "ac72f007-d22c-4c39-a7e5-e9ebd08a4611",
   "metadata": {
    "scrolled": true
   },
   "outputs": [],
   "source": [
    "ids = vstore.add_documents(splits)"
   ]
  },
  {
   "cell_type": "code",
   "execution_count": 13,
   "id": "f75ea29d-c655-4a4f-9efc-c2ece2b48f00",
   "metadata": {},
   "outputs": [],
   "source": [
    "retriever = vstore.as_retriever()\n",
    "template = \"\"\"\n",
    "context: {context}\n",
    "\n",
    "question: {question}\n",
    "\"\"\"\n",
    "prompt = PromptTemplate.from_template(template)\n",
    "llm = ChatGoogleGenerativeAI(model=\"gemini-pro\", temperature=0.0, google_api_key=Gemini_api_key, )"
   ]
  },
  {
   "cell_type": "code",
   "execution_count": 14,
   "id": "ed8cfcd9-24d5-451c-9c75-8cf3cb552088",
   "metadata": {},
   "outputs": [],
   "source": [
    "genai_llm = GoogleGenerativeAI(model = \"gemini-pro\", temperature=0.0, google_api_key=Gemini_api_key)"
   ]
  },
  {
   "cell_type": "code",
   "execution_count": 15,
   "id": "63759e94-d51d-457d-99e2-eaeb826b2afc",
   "metadata": {},
   "outputs": [],
   "source": [
    "def pages_adjustments(pages):\n",
    "    return \"\\n\\n\".join(page.page_content for page in pages)"
   ]
  },
  {
   "cell_type": "code",
   "execution_count": 16,
   "id": "d1b68b34-effd-4549-8ac6-2c6343bc25c0",
   "metadata": {},
   "outputs": [],
   "source": [
    "context_chain = retriever | pages_adjustments"
   ]
  },
  {
   "cell_type": "code",
   "execution_count": 17,
   "id": "ede283ba-975f-4374-a4a5-d666eba95db4",
   "metadata": {},
   "outputs": [],
   "source": [
    "main_chain = (\n",
    "    {\"context\" : context_chain, \"question\": RunnablePassthrough()}\n",
    "    |prompt\n",
    "    | genai_llm\n",
    "    | StrOutputParser()\n",
    ")"
   ]
  },
  {
   "cell_type": "code",
   "execution_count": 76,
   "id": "db76dcb9-667e-40b7-96e3-86bb263ac9b0",
   "metadata": {},
   "outputs": [
    {
     "data": {
      "text/plain": [
       "\"The Cauchy-Riemann equations are a system of two partial differential equations that are necessary and sufficient conditions for a complex function to be holomorphic (also known as analytic). They are named after Augustin-Louis Cauchy and Bernhard Riemann, who independently discovered them in the 19th century.\\n\\nThe Cauchy-Riemann equations are:\\n\\n```\\n∂u/∂x = ∂v/∂y\\n∂u/∂y = -∂v/∂x\\n```\\n\\nwhere u and v are the real and imaginary parts of the complex function f(z), respectively.\\n\\nTo prove the Cauchy-Riemann equations, we can use the definition of the derivative of a complex function:\\n\\n```\\nf'(z) = lim(h->0) [f(z+h) - f(z)]/h\\n```\\n\\nIf f(z) is holomorphic, then its derivative exists at every point in its domain. We can use this fact to compute the partial derivatives of u and v:\\n\\n```\\n∂u/∂x = lim(h->0) [u(x+h, y) - u(x, y)]/h\\n= lim(h->0) [Re(f(z+h)) - Re(f(z))]/h\\n= lim(h->0) [Re(f(z+h) - f(z))]/h\\n= Re(f'(z))\\n```\\n\\nSimilarly, we can compute the other partial derivatives:\\n\\n```\\n∂u/∂y = lim(h->0) [u(x, y+h) - u(x, y)]/h\\n= lim(h->0) [Re(f(z+ih)) - Re(f(z))]/h\\n= lim(h->0) [Re(f(z+ih) - f(z))]/h\\n= Im(f'(z))\\n\\n∂v/∂x = lim(h->0) [v(x+h, y) - v(x, y)]/h\\n= lim(h->0) [Im(f(z+h)) - Im(f(z))]/h\\n= lim(h->0) [Im(f(z+h) - f(z))]/h\\n= -Re(f'(z))\\n\\n∂v/∂y = lim(h->0) [v(x, y+h) - v(x, y)]/h\\n= lim(h->0) [Im(f(z+ih)) - Im(f(z))]/h\\n= lim(h->0) [Im(f(z+ih) - f(z))]/h\\n= -Im(f'(z))\\n```\\n\\nSubstituting these expressions into the Cauchy-Riemann equations, we get:\\n\\n```\\nRe(f'(z)) = Im(f'(z))\\n-Re(f'(z)) = -Im(f'(z))\\n```\\n\\nThese equations are equivalent to the Cauchy-Riemann equations in terms of u and v.\\n\\nThe Cauchy-Riemann equations are a powerful tool for studying complex functions. They can be used to prove many important results, such as the Cauchy integral formula and the residue theorem.\""
      ]
     },
     "execution_count": 76,
     "metadata": {},
     "output_type": "execute_result"
    }
   ],
   "source": [
    "main_chain.invoke(\"What is Cauchy Reimann Equation? Also Proof the equations.\")"
   ]
  },
  {
   "cell_type": "code",
   "execution_count": 22,
   "id": "655e1cee-e810-49fc-8d70-663f4d9b8245",
   "metadata": {},
   "outputs": [
    {
     "data": {
      "text/latex": [
       "$\\displaystyle f'(z) = lim(h->0) [f(z+h) - f(z)]/h$"
      ],
      "text/plain": [
       "<IPython.core.display.Math object>"
      ]
     },
     "metadata": {},
     "output_type": "display_data"
    }
   ],
   "source": [
    "print_latex(\"f'(z) = lim(h->0) [f(z+h) - f(z)]/h\")"
   ]
  },
  {
   "cell_type": "code",
   "execution_count": 24,
   "id": "c85e1238-cf6a-40cc-bb00-191dc049293d",
   "metadata": {},
   "outputs": [],
   "source": [
    "output = \"\"\"The Cauchy-Riemann equations are a system of two partial differential equations that are necessary and sufficient conditions for a complex function to be holomorphic (also known as analytic). They are named after Augustin-Louis Cauchy and Bernhard Riemann, who independently discovered them in the 19th century.\\n\\nThe Cauchy-Riemann equations are:\\n\\n```\\n∂u/∂x = ∂v/∂y\\n∂u/∂y = -∂v/∂x\\n```\\n\\nwhere u and v are the real and imaginary parts of the complex function f(z), respectively.\\n\\nTo prove the Cauchy-Riemann equations, we can use the definition of the derivative of a complex function:\\n\\n```\\nf'(z) = lim(h->0) [f(z+h) - f(z)]/h\\n```\\n\\nIf f(z) is holomorphic, then its derivative exists at every point in its domain. We can use this fact to compute the partial derivatives of u and v:\\n\\n```\\n∂u/∂x = lim(h->0) [u(x+h, y) - u(x, y)]/h\\n= lim(h->0) [Re(f(z+h)) - Re(f(z))]/h\\n= lim(h->0) [Re(f(z+h) - f(z))]/h\\n= Re(f'(z))\\n```\\n\\nSimilarly, we can compute the other partial derivatives:\\n\\n```\\n∂u/∂y = lim(h->0) [u(x, y+h) - u(x, y)]/h\\n= lim(h->0) [Re(f(z+ih)) - Re(f(z))]/h\\n= lim(h->0) [Re(f(z+ih) - f(z))]/h\\n= Im(f'(z))\\n\\n∂v/∂x = lim(h->0) [v(x+h, y) - v(x, y)]/h\\n= lim(h->0) [Im(f(z+h)) - Im(f(z))]/h\\n= lim(h->0) [Im(f(z+h) - f(z))]/h\\n= -Re(f'(z))\\n\\n∂v/∂y = lim(h->0) [v(x, y+h) - v(x, y)]/h\\n= lim(h->0) [Im(f(z+ih)) - Im(f(z))]/h\\n= lim(h->0) [Im(f(z+ih) - f(z))]/h\\n= -Im(f'(z))\\n```\\n\\nSubstituting these expressions into the Cauchy-Riemann equations, we get:\\n\\n```\\nRe(f'(z)) = Im(f'(z))\\n-Re(f'(z)) = -Im(f'(z))\\n```\\n\\nThese equations are equivalent to the Cauchy-Riemann equations in terms of u and v.\\n\\nThe Cauchy-Riemann equations are a powerful tool for studying complex functions. They can be used to prove many important results, such as the Cauchy integral formula and the residue theorem.\"\"\""
   ]
  },
  {
   "cell_type": "code",
   "execution_count": null,
   "id": "2ff1802d-fe96-4e78-9e46-185dc114e1b3",
   "metadata": {},
   "outputs": [],
   "source": []
  }
 ],
 "metadata": {
  "kernelspec": {
   "display_name": "Python 3 (ipykernel)",
   "language": "python",
   "name": "python3"
  },
  "language_info": {
   "codemirror_mode": {
    "name": "ipython",
    "version": 3
   },
   "file_extension": ".py",
   "mimetype": "text/x-python",
   "name": "python",
   "nbconvert_exporter": "python",
   "pygments_lexer": "ipython3",
   "version": "3.12.1"
  }
 },
 "nbformat": 4,
 "nbformat_minor": 5
}
