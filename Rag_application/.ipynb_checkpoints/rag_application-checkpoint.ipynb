{
 "cells": [
  {
   "cell_type": "code",
   "execution_count": 1,
   "id": "8db57227-1d12-4550-a872-40b9e88509ac",
   "metadata": {},
   "outputs": [
    {
     "data": {
      "text/plain": [
       "True"
      ]
     },
     "execution_count": 1,
     "metadata": {},
     "output_type": "execute_result"
    }
   ],
   "source": [
    "import os\n",
    "from dotenv import load_dotenv\n",
    "load_dotenv()"
   ]
  },
  {
   "cell_type": "code",
   "execution_count": 2,
   "id": "e63b9766-63d1-4aee-8a36-320c4e4e7d7d",
   "metadata": {},
   "outputs": [],
   "source": [
    "Gemini_api_key = os.environ[\"GEMINI_API_KEY\"]"
   ]
  },
  {
   "cell_type": "code",
   "execution_count": 3,
   "id": "79d227b4-ed3e-4153-90c1-be1353077637",
   "metadata": {},
   "outputs": [],
   "source": [
    "from langchain_google_genai import ChatGoogleGenerativeAI\n",
    "from langchain_google_genai import GoogleGenerativeAIEmbeddings\n",
    "from langchain.text_splitter import RecursiveCharacterTextSplitter\n",
    "from langchain_community.document_loaders import PyPDFLoader\n",
    "from langchain import hub"
   ]
  },
  {
   "cell_type": "code",
   "execution_count": 4,
   "id": "cb5912db-825b-4607-8586-7c611a55d3f3",
   "metadata": {},
   "outputs": [],
   "source": [
    "from langchain_core.runnables import RunnablePassthrough\n",
    "from langchain_core.output_parsers import StrOutputParser\n",
    "from langchain_community.vectorstores import LanceDB\n",
    "import lancedb"
   ]
  },
  {
   "cell_type": "code",
   "execution_count": 5,
   "id": "40fd898a-1734-4ed1-b489-2fd638a946cb",
   "metadata": {},
   "outputs": [],
   "source": [
    "GoogleGeminiEmbeddings = GoogleGenerativeAIEmbeddings(model=\"models/embedding-001\",google_api_key=Gemini_api_key )"
   ]
  },
  {
   "cell_type": "code",
   "execution_count": 14,
   "id": "0c24f52b-b6d6-48b8-8528-72ecc1e04b4e",
   "metadata": {},
   "outputs": [],
   "source": [
    "db = lancedb.connect(\"/pdfs/Complex_variables_db\")\n",
    "table = db.create_table(\n",
    "    \"whole_pdf_table\",\n",
    "    data=[\n",
    "        {\n",
    "        \"vector\": GoogleGeminiEmbeddings.embed_query(text = \"Temporary Text\"),\n",
    "            \"text\": \"Temporary text\",\n",
    "            \"id\": \"1\",\n",
    "        }\n",
    "    ],\n",
    "    mode=\"overwrite\",\n",
    ")"
   ]
  },
  {
   "cell_type": "code",
   "execution_count": 7,
   "id": "f900f0dc-578a-4a7c-b39b-440f572f96e3",
   "metadata": {},
   "outputs": [],
   "source": [
    "loader = PyPDFLoader(\"./Brown_Churchill_Complex_Variables_and_Ap.pdf\")\n",
    "pages = loader.load_and_split()"
   ]
  },
  {
   "cell_type": "code",
   "execution_count": 16,
   "id": "cdf41008-8c9c-42af-93b6-306449d72bdb",
   "metadata": {},
   "outputs": [],
   "source": [
    "text_splitter = RecursiveCharacterTextSplitter(chunk_size = 800, chunk_overlap = 200)\n",
    "splits = text_splitter.split_documents(pages)\n",
    "vectorstore = LanceDB.from_documents(documents=splits, embedding=GoogleGeminiEmbeddings, connection = table)"
   ]
  },
  {
   "cell_type": "code",
   "execution_count": 17,
   "id": "f75ea29d-c655-4a4f-9efc-c2ece2b48f00",
   "metadata": {},
   "outputs": [],
   "source": [
    "retriever = vectorstore.as_retriever()\n",
    "prompt = hub.pull(\"rlm/rag-prompt\")\n",
    "llm = ChatGoogleGenerativeAI(model=\"gemini-pro\", temperature=0.4, google_api_key=Gemini_api_key)"
   ]
  },
  {
   "cell_type": "code",
   "execution_count": 18,
   "id": "63759e94-d51d-457d-99e2-eaeb826b2afc",
   "metadata": {},
   "outputs": [],
   "source": [
    "def pages_adjustments(pages):\n",
    "    return \"/n\".join(page.page_content for page in pages)"
   ]
  },
  {
   "cell_type": "code",
   "execution_count": 24,
   "id": "d1b68b34-effd-4549-8ac6-2c6343bc25c0",
   "metadata": {},
   "outputs": [],
   "source": [
    "context_chain = retriever | pages_adjustments"
   ]
  },
  {
   "cell_type": "code",
   "execution_count": 25,
   "id": "ede283ba-975f-4374-a4a5-d666eba95db4",
   "metadata": {},
   "outputs": [],
   "source": [
    "main_chain = (\n",
    "    {\"context\" : context_chain, \"question\": RunnablePassthrough()}\n",
    "    | prompt\n",
    "    | llm\n",
    "    | StrOutputParser()\n",
    ")"
   ]
  },
  {
   "cell_type": "code",
   "execution_count": 29,
   "id": "503439bb-cae7-4242-85e5-5ec2efb1d294",
   "metadata": {},
   "outputs": [
    {
     "data": {
      "text/plain": [
       "'I apologize, but the provided context does not contain information about the properties of complex numbers. Therefore, I cannot answer your question.'"
      ]
     },
     "execution_count": 29,
     "metadata": {},
     "output_type": "execute_result"
    }
   ],
   "source": [
    "main_chain.invoke(\"What are Properties of Complex Numbers ?\")"
   ]
  },
  {
   "cell_type": "code",
   "execution_count": 30,
   "id": "9beec153-2c1b-4598-b92c-52dbc41b4e14",
   "metadata": {},
   "outputs": [
    {
     "data": {
      "text/plain": [
       "'z1+z2+z3or a product z1z2z3is well deﬁned without parentheses, as is the case with\\nreal numbers.\\nThe additive identity 0 =(0,0)and the multiplicative identity 1 =(1,0)for real\\nnumbers carry over to the entire complex number system. That is,\\nz+0=zand z·1=z (4)/nAccording to the commutative law for multiplication, iy=yi. Hence one can\\nwrite z=x+yiinstead of z=x+iy. Also, because of the associative laws, a sum\\nz1+z2+z3or a product z1z2z3is well deﬁned without parentheses, as is the case with\\nreal numbers.\\nThe additive identity 0 =(0,0)and the multiplicative identity 1 =(1,0)for real\\nnumbers carry over to the entire complex number system. That is,\\nz+0=zand z·1=z (4)/nthe set of complex numbers includes the real numbers as a subset. Complex numbersof the form (0,y)correspond to points on the y axis and are called pure imaginary\\nnumbers when y̸=0.Theyaxis is then referred to as the imaginary axis.\\nIt is customary to denote a complex number (x,y)byz, so that (see Fig. 1)\\nz=(x,y). (1)\\nz = (x, y)\\ni = (0, 1)\\nx = (x, 0)x Oy\\nFIGURE 1\\n1/nBrown/Churchill-3930327 book July 18, 2013 9:58\\nCHAPTER\\n1\\nCOMPLEX NUMBERS\\nIn this chapter, we survey the algebraic and geometric structure of the complex number\\nsystem. We assume various corresponding properties of real numbers to be known.\\n1. SUMS AND PRODUCTS\\nComplex numbers can be deﬁned as ordered pairs (x,y)of real numbers that are to\\nbe interpreted as points in the complex plane, with rectangular coordinates xandy,\\njust as real numbers xare thought of as points on the real line. When real numbers\\nxare displayed as points (x,0)on the real axis, we write x=(x,0);and it is clear that\\nthe set of complex numbers includes the real numbers as a subset. Complex numbersof the form (0,y)correspond to points on the y axis and are called pure imaginary'"
      ]
     },
     "execution_count": 30,
     "metadata": {},
     "output_type": "execute_result"
    }
   ],
   "source": [
    "context_chain.invoke(\"Define complex numbers?\")"
   ]
  },
  {
   "cell_type": "code",
   "execution_count": null,
   "id": "1e1c9bd6-672a-4723-ac60-c42c6d1b5749",
   "metadata": {},
   "outputs": [],
   "source": []
  }
 ],
 "metadata": {
  "kernelspec": {
   "display_name": "Python 3 (ipykernel)",
   "language": "python",
   "name": "python3"
  },
  "language_info": {
   "codemirror_mode": {
    "name": "ipython",
    "version": 3
   },
   "file_extension": ".py",
   "mimetype": "text/x-python",
   "name": "python",
   "nbconvert_exporter": "python",
   "pygments_lexer": "ipython3",
   "version": "3.12.1"
  }
 },
 "nbformat": 4,
 "nbformat_minor": 5
}
